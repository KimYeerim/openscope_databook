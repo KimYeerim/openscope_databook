{
 "cells": [
  {
   "cell_type": "markdown",
   "metadata": {},
   "source": [
    "# Visualizing Neuropixel Probe Locations\n",
    "\n",
    "**Note: This notebook currently doesn't work on remote locations. To run it, it should be downloaded and run locally. Instructions for this can be found on the [Main Page](../intro.md)**"
   ]
  },
  {
   "cell_type": "markdown",
   "metadata": {},
   "source": [
    "It can be handy to know the location and trajectory of the probes that obtain the data. Some NWB files have an **electrodes** field which store these locations. To be more precise, they contain arrays of *CCF* coordinates. [CCF](https://community.brain-map.org/t/allen-mouse-ccf-accessing-and-using-related-data-and-tools/359) is a framework which represents locations in the brain with coordinates that are relative to brain structure. This notebook uses CCF coordinate data in an extracellular electrophysiology NWB file to render the locations of the [Neuropixel](https://www.neuropixels.org/probe) probes that were used.\n",
    "\n",
    "To be able to render locations in a brain, you don't need to know how CCF works except that it is a system of coordinates. We use **[ccf-widget](https://github.com/NeurodataWithoutBorders/ccf-widget)** as the library by which we 3D render the brain and the probe coordinates."
   ]
  },
  {
   "cell_type": "markdown",
   "metadata": {},
   "source": [
    "### Environment Setup"
   ]
  },
  {
   "cell_type": "code",
   "execution_count": 1,
   "metadata": {},
   "outputs": [],
   "source": [
    "import matplotlib.pyplot as plt\n",
    "import numpy as np\n",
    "\n",
    "from ccfwidget import CCFWidget\n",
    "from dandi import dandiapi\n",
    "from pynwb import NWBHDF5IO"
   ]
  },
  {
   "cell_type": "markdown",
   "metadata": {},
   "source": [
    "### Downloading an NWB File\n",
    "If you don't already have a file to analyze, you can use a file from The Allen Institute's **Visual Coding - Neuropixels** dataset. If you want to choose your own file to download, set `dandiset_id` and `dandi_filepath` accordingly."
   ]
  },
  {
   "cell_type": "code",
   "execution_count": 2,
   "metadata": {},
   "outputs": [],
   "source": [
    "dandiset_id = \"000021\"\n",
    "dandi_filepath = \"sub-703279277/sub-703279277_ses-719161530.nwb\"\n",
    "download_loc = \".\""
   ]
  },
  {
   "cell_type": "code",
   "execution_count": 3,
   "metadata": {},
   "outputs": [],
   "source": [
    "filename = dandi_filepath.split(\"/\")[-1]\n",
    "filepath = f\"{download_loc}/{filename}\""
   ]
  },
  {
   "cell_type": "code",
   "execution_count": 4,
   "metadata": {},
   "outputs": [
    {
     "name": "stderr",
     "output_type": "stream",
     "text": [
      "A newer version (0.48.1) of dandi/dandi-cli is available. You are using 0.46.3\n"
     ]
    },
    {
     "name": "stdout",
     "output_type": "stream",
     "text": [
      "Downloaded file to ./sub-703279277_ses-719161530.nwb\n"
     ]
    }
   ],
   "source": [
    "my_dandiset = dandiapi.DandiAPIClient().get_dandiset(dandiset_id)\n",
    "file = my_dandiset.get_asset_by_path(dandi_filepath)\n",
    "# this may take awhile, especially if the file to download is large\n",
    "file.download(filepath)\n",
    "\n",
    "print(f\"Downloaded file to {filepath}\")"
   ]
  },
  {
   "cell_type": "markdown",
   "metadata": {},
   "source": [
    "### Extracting Electrode Data\n",
    "Below the NWB file is read and the `electrodes` table is displayed. This table contains the metadata about the electrode channels along the Neuropixel probes used in this session. Importantly, this table contains the CCF coordinates, the brain location, and the name of the probe it belongs to."
   ]
  },
  {
   "cell_type": "code",
   "execution_count": 5,
   "metadata": {
    "scrolled": true
   },
   "outputs": [
    {
     "name": "stderr",
     "output_type": "stream",
     "text": [
      "Ignoring cached namespace 'hdmf-common' version 1.1.3 because version 1.5.1 is already loaded.\n",
      "Ignoring cached namespace 'core' version 2.2.2 because version 2.5.0 is already loaded.\n"
     ]
    }
   ],
   "source": [
    "### read the nwb file\n",
    "io = NWBHDF5IO(filepath, mode=\"r\", load_namespaces=True)\n",
    "nwb = io.read()"
   ]
  },
  {
   "cell_type": "code",
   "execution_count": 6,
   "metadata": {
    "scrolled": true
   },
   "outputs": [
    {
     "data": {
      "text/html": [
       "<div>\n",
       "<style scoped>\n",
       "    .dataframe tbody tr th:only-of-type {\n",
       "        vertical-align: middle;\n",
       "    }\n",
       "\n",
       "    .dataframe tbody tr th {\n",
       "        vertical-align: top;\n",
       "    }\n",
       "\n",
       "    .dataframe thead th {\n",
       "        text-align: right;\n",
       "    }\n",
       "</style>\n",
       "<table border=\"1\" class=\"dataframe\">\n",
       "  <thead>\n",
       "    <tr style=\"text-align: right;\">\n",
       "      <th></th>\n",
       "      <th>x</th>\n",
       "      <th>y</th>\n",
       "      <th>z</th>\n",
       "      <th>imp</th>\n",
       "      <th>location</th>\n",
       "      <th>filtering</th>\n",
       "      <th>group</th>\n",
       "      <th>group_name</th>\n",
       "      <th>probe_vertical_position</th>\n",
       "      <th>probe_horizontal_position</th>\n",
       "      <th>probe_id</th>\n",
       "      <th>local_index</th>\n",
       "      <th>valid_data</th>\n",
       "    </tr>\n",
       "    <tr>\n",
       "      <th>id</th>\n",
       "      <th></th>\n",
       "      <th></th>\n",
       "      <th></th>\n",
       "      <th></th>\n",
       "      <th></th>\n",
       "      <th></th>\n",
       "      <th></th>\n",
       "      <th></th>\n",
       "      <th></th>\n",
       "      <th></th>\n",
       "      <th></th>\n",
       "      <th></th>\n",
       "      <th></th>\n",
       "    </tr>\n",
       "  </thead>\n",
       "  <tbody>\n",
       "    <tr>\n",
       "      <th>850249265</th>\n",
       "      <td>7955.0</td>\n",
       "      <td>3766.0</td>\n",
       "      <td>3766.0</td>\n",
       "      <td>NaN</td>\n",
       "      <td>Eth</td>\n",
       "      <td>AP band: 500 Hz high-pass; LFP band: 1000 Hz l...</td>\n",
       "      <td>probeB abc.EcephysElectrodeGroup at 0x24370595...</td>\n",
       "      <td>probeB</td>\n",
       "      <td>20</td>\n",
       "      <td>43</td>\n",
       "      <td>729445650</td>\n",
       "      <td>0</td>\n",
       "      <td>False</td>\n",
       "    </tr>\n",
       "    <tr>\n",
       "      <th>850249267</th>\n",
       "      <td>7955.0</td>\n",
       "      <td>3756.0</td>\n",
       "      <td>3756.0</td>\n",
       "      <td>NaN</td>\n",
       "      <td>TH</td>\n",
       "      <td>AP band: 500 Hz high-pass; LFP band: 1000 Hz l...</td>\n",
       "      <td>probeB abc.EcephysElectrodeGroup at 0x24370595...</td>\n",
       "      <td>probeB</td>\n",
       "      <td>20</td>\n",
       "      <td>11</td>\n",
       "      <td>729445650</td>\n",
       "      <td>1</td>\n",
       "      <td>True</td>\n",
       "    </tr>\n",
       "    <tr>\n",
       "      <th>850249273</th>\n",
       "      <td>7955.0</td>\n",
       "      <td>3727.0</td>\n",
       "      <td>3727.0</td>\n",
       "      <td>NaN</td>\n",
       "      <td>TH</td>\n",
       "      <td>AP band: 500 Hz high-pass; LFP band: 1000 Hz l...</td>\n",
       "      <td>probeB abc.EcephysElectrodeGroup at 0x24370595...</td>\n",
       "      <td>probeB</td>\n",
       "      <td>60</td>\n",
       "      <td>43</td>\n",
       "      <td>729445650</td>\n",
       "      <td>4</td>\n",
       "      <td>True</td>\n",
       "    </tr>\n",
       "    <tr>\n",
       "      <th>850249277</th>\n",
       "      <td>7954.0</td>\n",
       "      <td>3708.0</td>\n",
       "      <td>3708.0</td>\n",
       "      <td>NaN</td>\n",
       "      <td>APN</td>\n",
       "      <td>AP band: 500 Hz high-pass; LFP band: 1000 Hz l...</td>\n",
       "      <td>probeB abc.EcephysElectrodeGroup at 0x24370595...</td>\n",
       "      <td>probeB</td>\n",
       "      <td>80</td>\n",
       "      <td>59</td>\n",
       "      <td>729445650</td>\n",
       "      <td>6</td>\n",
       "      <td>True</td>\n",
       "    </tr>\n",
       "    <tr>\n",
       "      <th>850249283</th>\n",
       "      <td>7954.0</td>\n",
       "      <td>3679.0</td>\n",
       "      <td>3679.0</td>\n",
       "      <td>NaN</td>\n",
       "      <td>APN</td>\n",
       "      <td>AP band: 500 Hz high-pass; LFP band: 1000 Hz l...</td>\n",
       "      <td>probeB abc.EcephysElectrodeGroup at 0x24370595...</td>\n",
       "      <td>probeB</td>\n",
       "      <td>100</td>\n",
       "      <td>11</td>\n",
       "      <td>729445650</td>\n",
       "      <td>9</td>\n",
       "      <td>True</td>\n",
       "    </tr>\n",
       "    <tr>\n",
       "      <th>...</th>\n",
       "      <td>...</td>\n",
       "      <td>...</td>\n",
       "      <td>...</td>\n",
       "      <td>...</td>\n",
       "      <td>...</td>\n",
       "      <td>...</td>\n",
       "      <td>...</td>\n",
       "      <td>...</td>\n",
       "      <td>...</td>\n",
       "      <td>...</td>\n",
       "      <td>...</td>\n",
       "      <td>...</td>\n",
       "      <td>...</td>\n",
       "    </tr>\n",
       "    <tr>\n",
       "      <th>850256499</th>\n",
       "      <td>7562.0</td>\n",
       "      <td>1193.0</td>\n",
       "      <td>1193.0</td>\n",
       "      <td>NaN</td>\n",
       "      <td>VISrl</td>\n",
       "      <td>AP band: 500 Hz high-pass; LFP band: 1000 Hz l...</td>\n",
       "      <td>probeF abc.EcephysElectrodeGroup at 0x24370595...</td>\n",
       "      <td>probeF</td>\n",
       "      <td>1240</td>\n",
       "      <td>27</td>\n",
       "      <td>729445658</td>\n",
       "      <td>123</td>\n",
       "      <td>True</td>\n",
       "    </tr>\n",
       "    <tr>\n",
       "      <th>850256501</th>\n",
       "      <td>7560.0</td>\n",
       "      <td>1186.0</td>\n",
       "      <td>1186.0</td>\n",
       "      <td>NaN</td>\n",
       "      <td>VISrl</td>\n",
       "      <td>AP band: 500 Hz high-pass; LFP band: 1000 Hz l...</td>\n",
       "      <td>probeF abc.EcephysElectrodeGroup at 0x24370595...</td>\n",
       "      <td>probeF</td>\n",
       "      <td>1260</td>\n",
       "      <td>43</td>\n",
       "      <td>729445658</td>\n",
       "      <td>124</td>\n",
       "      <td>True</td>\n",
       "    </tr>\n",
       "    <tr>\n",
       "      <th>850256505</th>\n",
       "      <td>7557.0</td>\n",
       "      <td>1172.0</td>\n",
       "      <td>1172.0</td>\n",
       "      <td>NaN</td>\n",
       "      <td>VISrl</td>\n",
       "      <td>AP band: 500 Hz high-pass; LFP band: 1000 Hz l...</td>\n",
       "      <td>probeF abc.EcephysElectrodeGroup at 0x24370595...</td>\n",
       "      <td>probeF</td>\n",
       "      <td>1280</td>\n",
       "      <td>59</td>\n",
       "      <td>729445658</td>\n",
       "      <td>126</td>\n",
       "      <td>True</td>\n",
       "    </tr>\n",
       "    <tr>\n",
       "      <th>850256507</th>\n",
       "      <td>7555.0</td>\n",
       "      <td>1165.0</td>\n",
       "      <td>1165.0</td>\n",
       "      <td>NaN</td>\n",
       "      <td>VISrl</td>\n",
       "      <td>AP band: 500 Hz high-pass; LFP band: 1000 Hz l...</td>\n",
       "      <td>probeF abc.EcephysElectrodeGroup at 0x24370595...</td>\n",
       "      <td>probeF</td>\n",
       "      <td>1280</td>\n",
       "      <td>27</td>\n",
       "      <td>729445658</td>\n",
       "      <td>127</td>\n",
       "      <td>True</td>\n",
       "    </tr>\n",
       "    <tr>\n",
       "      <th>850256511</th>\n",
       "      <td>7550.0</td>\n",
       "      <td>1144.0</td>\n",
       "      <td>1144.0</td>\n",
       "      <td>NaN</td>\n",
       "      <td>VISrl</td>\n",
       "      <td>AP band: 500 Hz high-pass; LFP band: 1000 Hz l...</td>\n",
       "      <td>probeF abc.EcephysElectrodeGroup at 0x24370595...</td>\n",
       "      <td>probeF</td>\n",
       "      <td>1300</td>\n",
       "      <td>11</td>\n",
       "      <td>729445658</td>\n",
       "      <td>129</td>\n",
       "      <td>True</td>\n",
       "    </tr>\n",
       "  </tbody>\n",
       "</table>\n",
       "<p>2304 rows × 13 columns</p>\n",
       "</div>"
      ],
      "text/plain": [
       "                x       y       z  imp location  \\\n",
       "id                                                \n",
       "850249265  7955.0  3766.0  3766.0  NaN      Eth   \n",
       "850249267  7955.0  3756.0  3756.0  NaN       TH   \n",
       "850249273  7955.0  3727.0  3727.0  NaN       TH   \n",
       "850249277  7954.0  3708.0  3708.0  NaN      APN   \n",
       "850249283  7954.0  3679.0  3679.0  NaN      APN   \n",
       "...           ...     ...     ...  ...      ...   \n",
       "850256499  7562.0  1193.0  1193.0  NaN    VISrl   \n",
       "850256501  7560.0  1186.0  1186.0  NaN    VISrl   \n",
       "850256505  7557.0  1172.0  1172.0  NaN    VISrl   \n",
       "850256507  7555.0  1165.0  1165.0  NaN    VISrl   \n",
       "850256511  7550.0  1144.0  1144.0  NaN    VISrl   \n",
       "\n",
       "                                                   filtering  \\\n",
       "id                                                             \n",
       "850249265  AP band: 500 Hz high-pass; LFP band: 1000 Hz l...   \n",
       "850249267  AP band: 500 Hz high-pass; LFP band: 1000 Hz l...   \n",
       "850249273  AP band: 500 Hz high-pass; LFP band: 1000 Hz l...   \n",
       "850249277  AP band: 500 Hz high-pass; LFP band: 1000 Hz l...   \n",
       "850249283  AP band: 500 Hz high-pass; LFP band: 1000 Hz l...   \n",
       "...                                                      ...   \n",
       "850256499  AP band: 500 Hz high-pass; LFP band: 1000 Hz l...   \n",
       "850256501  AP band: 500 Hz high-pass; LFP band: 1000 Hz l...   \n",
       "850256505  AP band: 500 Hz high-pass; LFP band: 1000 Hz l...   \n",
       "850256507  AP band: 500 Hz high-pass; LFP band: 1000 Hz l...   \n",
       "850256511  AP band: 500 Hz high-pass; LFP band: 1000 Hz l...   \n",
       "\n",
       "                                                       group group_name  \\\n",
       "id                                                                        \n",
       "850249265  probeB abc.EcephysElectrodeGroup at 0x24370595...     probeB   \n",
       "850249267  probeB abc.EcephysElectrodeGroup at 0x24370595...     probeB   \n",
       "850249273  probeB abc.EcephysElectrodeGroup at 0x24370595...     probeB   \n",
       "850249277  probeB abc.EcephysElectrodeGroup at 0x24370595...     probeB   \n",
       "850249283  probeB abc.EcephysElectrodeGroup at 0x24370595...     probeB   \n",
       "...                                                      ...        ...   \n",
       "850256499  probeF abc.EcephysElectrodeGroup at 0x24370595...     probeF   \n",
       "850256501  probeF abc.EcephysElectrodeGroup at 0x24370595...     probeF   \n",
       "850256505  probeF abc.EcephysElectrodeGroup at 0x24370595...     probeF   \n",
       "850256507  probeF abc.EcephysElectrodeGroup at 0x24370595...     probeF   \n",
       "850256511  probeF abc.EcephysElectrodeGroup at 0x24370595...     probeF   \n",
       "\n",
       "           probe_vertical_position  probe_horizontal_position   probe_id  \\\n",
       "id                                                                         \n",
       "850249265                       20                         43  729445650   \n",
       "850249267                       20                         11  729445650   \n",
       "850249273                       60                         43  729445650   \n",
       "850249277                       80                         59  729445650   \n",
       "850249283                      100                         11  729445650   \n",
       "...                            ...                        ...        ...   \n",
       "850256499                     1240                         27  729445658   \n",
       "850256501                     1260                         43  729445658   \n",
       "850256505                     1280                         59  729445658   \n",
       "850256507                     1280                         27  729445658   \n",
       "850256511                     1300                         11  729445658   \n",
       "\n",
       "           local_index  valid_data  \n",
       "id                                  \n",
       "850249265            0       False  \n",
       "850249267            1        True  \n",
       "850249273            4        True  \n",
       "850249277            6        True  \n",
       "850249283            9        True  \n",
       "...                ...         ...  \n",
       "850256499          123        True  \n",
       "850256501          124        True  \n",
       "850256505          126        True  \n",
       "850256507          127        True  \n",
       "850256511          129        True  \n",
       "\n",
       "[2304 rows x 13 columns]"
      ]
     },
     "execution_count": 6,
     "metadata": {},
     "output_type": "execute_result"
    }
   ],
   "source": [
    "nwb.electrodes[:]"
   ]
  },
  {
   "cell_type": "markdown",
   "metadata": {},
   "source": [
    "### Getting CCF Coordinates\n",
    "Here, the CCF coordinates are taken from the `electrodes` table and turned into an array of points."
   ]
  },
  {
   "cell_type": "code",
   "execution_count": 7,
   "metadata": {},
   "outputs": [],
   "source": [
    "### read the x,y,z ccf coordinates and generate points\n",
    "xs = nwb.electrodes.x\n",
    "ys = nwb.electrodes.y\n",
    "zs = nwb.electrodes.z\n",
    "n = min(len(xs), len(ys), len(zs))\n",
    "# points = np.array([[xs[i], ys[i], zs[i]] for i in range(n)])\n",
    "points = np.array(list(zip(xs,ys,zs)))"
   ]
  },
  {
   "cell_type": "code",
   "execution_count": 8,
   "metadata": {},
   "outputs": [
    {
     "name": "stdout",
     "output_type": "stream",
     "text": [
      "(2304, 3)\n"
     ]
    }
   ],
   "source": [
    "print(points.shape)"
   ]
  },
  {
   "cell_type": "markdown",
   "metadata": {},
   "source": [
    "### Identifying Brain Regions\n",
    "Since the brain location of each electrode is also stored, we can create a more informative display by coloring the points based on their location."
   ]
  },
  {
   "cell_type": "code",
   "execution_count": 9,
   "metadata": {},
   "outputs": [],
   "source": [
    "# assign each brain location a color\n",
    "locations = list(set(nwb.electrodes.location))\n",
    "colors = plt.cm.rainbow(np.linspace(0,1,len(locations)))\n",
    "loc_color_map = {locations[i]:colors[i] for i in range(len(locations))}\n",
    "\n",
    "# determine point colors depending on brain location\n",
    "point_colors = [ loc_color_map[electrode] for electrode in nwb.electrodes.location]"
   ]
  },
  {
   "cell_type": "markdown",
   "metadata": {},
   "source": [
    "### Rendering\n",
    "Rendering is as simple as generating the widget and displaying it. This will create embedded window with the interactive 3D rendering of your scene. "
   ]
  },
  {
   "cell_type": "code",
   "execution_count": 10,
   "metadata": {},
   "outputs": [],
   "source": [
    "ccf = CCFWidget(markers=[points])"
   ]
  },
  {
   "cell_type": "code",
   "execution_count": 11,
   "metadata": {},
   "outputs": [
    {
     "data": {
      "application/vnd.jupyter.widget-view+json": {
       "model_id": "bdec093dbcda4d59bad60e97e622bdb4",
       "version_major": 2,
       "version_minor": 0
      },
      "text/plain": [
       "CCFWidget(children=(VBox(children=(Viewer(background=(0.85, 0.85, 0.85), camera=array([[ 1.3441567e+03, -2.172…"
      ]
     },
     "metadata": {},
     "output_type": "display_data"
    }
   ],
   "source": [
    "ccf"
   ]
  }
 ],
 "metadata": {
  "kernelspec": {
   "display_name": "Python 3 (ipykernel)",
   "language": "python",
   "name": "python3"
  },
  "language_info": {
   "codemirror_mode": {
    "name": "ipython",
    "version": 3
   },
   "file_extension": ".py",
   "mimetype": "text/x-python",
   "name": "python",
   "nbconvert_exporter": "python",
   "pygments_lexer": "ipython3",
   "version": "3.9.10"
  }
 },
 "nbformat": 4,
 "nbformat_minor": 2
}
